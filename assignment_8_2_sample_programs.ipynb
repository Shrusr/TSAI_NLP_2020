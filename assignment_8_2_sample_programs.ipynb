{
 "cells": [
  {
   "cell_type": "code",
   "execution_count": 28,
   "metadata": {},
   "outputs": [
    {
     "data": {
      "text/plain": [
       "['nowplaying', 'PBS', 'job', 'debate', 'thenandnow']"
      ]
     },
     "execution_count": 28,
     "metadata": {},
     "output_type": "execute_result"
    }
   ],
   "source": [
    "# write python function get the unique number of elements from the user given list \n",
    "\n",
    "mylist = ['nowplaying', 'PBS', 'PBS', 'nowplaying', 'job', 'debate', 'thenandnow']\n",
    "\n",
    "def get_unique_elements(list):\n",
    "    unique = [x for i, x in enumerate(mylist) if i == mylist.index(x)]\n",
    "    return unique\n",
    "\n",
    "get_unique_elements(mylist)"
   ]
  },
  {
   "cell_type": "code",
   "execution_count": 86,
   "metadata": {},
   "outputs": [
    {
     "name": "stdout",
     "output_type": "stream",
     "text": [
      "98\n"
     ]
    }
   ],
   "source": [
    "# write a python function get the maximum number in passed list\n",
    "\n",
    "def max_check(x):\n",
    "    max_val = x[0] \n",
    "    for check in x: \n",
    "        if check > max_val: \n",
    "            max_val = check \n",
    "    return max_val\n",
    "\n",
    "print(f'{max_check([2,4,5,7,98])}')\n"
   ]
  },
  {
   "cell_type": "code",
   "execution_count": 88,
   "metadata": {},
   "outputs": [
    {
     "name": "stdout",
     "output_type": "stream",
     "text": [
      "2\n"
     ]
    }
   ],
   "source": [
    "# write a python function to get the minimum number in passed list\n",
    "\n",
    "def min_check(x):\n",
    "    min_val = x[0] \n",
    "    for check in x: \n",
    "        if check < min_val: \n",
    "            min_val = check \n",
    "    return min_val\n",
    "\n",
    "print(f'{min_check([2,4,5,7,98])}')"
   ]
  },
  {
   "cell_type": "code",
   "execution_count": 1,
   "metadata": {},
   "outputs": [
    {
     "name": "stdout",
     "output_type": "stream",
     "text": [
      "reversed list: [3, 29, 1, 0, 40]\n"
     ]
    }
   ],
   "source": [
    "# write a program to reverse the list elemnets\n",
    "\n",
    "list_ = [40,0,1,29,3]\n",
    "rev_list = list_[::-1]\n",
    "print(f'reversed list: {rev_list}')"
   ]
  },
  {
   "cell_type": "code",
   "execution_count": 7,
   "metadata": {},
   "outputs": [
    {
     "name": "stdout",
     "output_type": "stream",
     "text": [
      "assending_order_list: [-23, -6, -5, 0, 5, 23, 23, 67]\n"
     ]
    }
   ],
   "source": [
    "# write a progarm to sort the list in assending order\n",
    "data_list = [-5, -23, 5, 0, 23, -6, 23, 67]\n",
    "new_list = []\n",
    "\n",
    "while data_list:\n",
    "    minimum = data_list[0]  # arbitrary number in list \n",
    "    for x in data_list: \n",
    "        if x < minimum:\n",
    "            minimum = x\n",
    "    new_list.append(minimum)\n",
    "    data_list.remove(minimum)    \n",
    "\n",
    "print(f'assending_order_list: {new_list}')"
   ]
  },
  {
   "cell_type": "code",
   "execution_count": 8,
   "metadata": {},
   "outputs": [
    {
     "name": "stdout",
     "output_type": "stream",
     "text": [
      "decending_order_list: [67, 23, 23, 5, 0, -5, -6, -23]\n"
     ]
    }
   ],
   "source": [
    "# write a program to sort the list in desending order\n",
    "data_list = [-5, -23, 5, 0, 23, -6, 23, 67]\n",
    "new_list = []\n",
    "\n",
    "while data_list:\n",
    "    minimum = data_list[0]  # arbitrary number in list \n",
    "    for x in data_list: \n",
    "        if x > minimum:\n",
    "            minimum = x\n",
    "    new_list.append(minimum)\n",
    "    data_list.remove(minimum)    \n",
    "\n",
    "print(f'decending_order_list: {new_list}')"
   ]
  },
  {
   "cell_type": "code",
   "execution_count": 11,
   "metadata": {},
   "outputs": [
    {
     "data": {
      "text/plain": [
       "[('goal', 1), ('is', 10), ('a', 15), ('portal', 20), ('for', 24), ('to', 28)]"
      ]
     },
     "execution_count": 11,
     "metadata": {},
     "output_type": "execute_result"
    }
   ],
   "source": [
    "# write a python function to sort a list of tuples by the second Item \n",
    "  \n",
    "def Sort_Tuple(tup):  \n",
    "      \n",
    "    # getting length of list of tuples \n",
    "    lst = len(tup)  \n",
    "    for i in range(0, lst):  \n",
    "          \n",
    "        for j in range(0, lst-i-1):  \n",
    "            if (tup[j][1] > tup[j + 1][1]):  \n",
    "                temp = tup[j]  \n",
    "                tup[j]= tup[j + 1]  \n",
    "                tup[j + 1]= temp  \n",
    "    return tup  \n",
    "  \n",
    "# Driver Code  \n",
    "tup =[('for', 24), ('is', 10), ('to', 28),  \n",
    "      ('goal', 1), ('portal', 20), ('a', 15)]  \n",
    "        \n",
    "Sort_Tuple(tup) "
   ]
  },
  {
   "cell_type": "code",
   "execution_count": 12,
   "metadata": {},
   "outputs": [
    {
     "data": {
      "text/plain": [
       "['a', 'b', 'c', 'x', 'd', 'e', 'f', 'x', 'g', 'h', 'i', 'x', 'j']"
      ]
     },
     "execution_count": 12,
     "metadata": {},
     "output_type": "execute_result"
    }
   ],
   "source": [
    "# write a program to insert elemnet in the list after every nth element\n",
    "\n",
    "letters = ['a','b','c','d','e','f','g','h','i','j']\n",
    "i = 3\n",
    "while i < len(letters):\n",
    "    letters.insert(i, 'x')\n",
    "    i += 4\n",
    "\n",
    "letters"
   ]
  },
  {
   "cell_type": "code",
   "execution_count": 22,
   "metadata": {},
   "outputs": [
    {
     "name": "stdout",
     "output_type": "stream",
     "text": [
      "sum: 15\n"
     ]
    }
   ],
   "source": [
    "# write a program to find sum of elements in list\n",
    "total = 0\n",
    "print(f'sum: {sum([total + x for x in [1, 2, 3, 4, 5]])}')\n"
   ]
  },
  {
   "cell_type": "code",
   "execution_count": 23,
   "metadata": {},
   "outputs": [
    {
     "data": {
      "text/plain": [
       "[5]"
      ]
     },
     "execution_count": 23,
     "metadata": {},
     "output_type": "execute_result"
    }
   ],
   "source": [
    "# write a  program to get th ematched elemnets from two list \n",
    "a = [1, 2, 3, 4, 5]\n",
    "b = [9, 8, 7, 6, 5]\n",
    "[i for i, j in zip(a, b) if i == j]"
   ]
  },
  {
   "cell_type": "code",
   "execution_count": 24,
   "metadata": {},
   "outputs": [
    {
     "data": {
      "text/plain": [
       "[1, 2, 3, 4]"
      ]
     },
     "execution_count": 24,
     "metadata": {},
     "output_type": "execute_result"
    }
   ],
   "source": [
    "# write a  program to get the matched elements from two list \n",
    "a = [1, 2, 3, 4, 5]\n",
    "b = [9, 8, 7, 6, 5]\n",
    "[i for i, j in zip(a, b) if i != j]"
   ]
  },
  {
   "cell_type": "code",
   "execution_count": 31,
   "metadata": {},
   "outputs": [
    {
     "name": "stdout",
     "output_type": "stream",
     "text": [
      "dictionary:{'a': 1, 'b': 2, 'c': 3, 'd': 4}\n"
     ]
    }
   ],
   "source": [
    "# write a python program to create dictionary from the lists \n",
    "\n",
    "L1 = ['a','b','c','d']\n",
    "L2 = [1,2,3,4]\n",
    "d = dict(zip(L1,L2))\n",
    "print(f'dictionary:{d}')"
   ]
  },
  {
   "cell_type": "code",
   "execution_count": 45,
   "metadata": {},
   "outputs": [
    {
     "name": "stdout",
     "output_type": "stream",
     "text": [
      "lsit_key_value:[['Food', 'Fish&Chips'], ['2012', 'Olympics'], ['Capital', 'London']]\n"
     ]
    }
   ],
   "source": [
    "# write a program to convert given dictonary to list of list key value pairs \n",
    "\n",
    "d = {'Food':'Fish&Chips','2012':'Olympics','Capital':'London'}\n",
    "list_key_value = [ [k,v] for k, v in d.items() ]\n",
    "print(f'lsit_key_value:{list_key_value}')\n"
   ]
  },
  {
   "cell_type": "code",
   "execution_count": 53,
   "metadata": {},
   "outputs": [
    {
     "name": "stdout",
     "output_type": "stream",
     "text": [
      "count:3\n"
     ]
    }
   ],
   "source": [
    "# write program to Compare two dictionaries and check how many (key, value) pairs are equal\n",
    "x = {\"a\":2,\"b\":2,\"c\":3,\"d\":4}\n",
    "y = {\"b\":2,\"c\":3, \"d\":4}\n",
    "shared_items = {k: x[k] for k in x if k in y and x[k] == y[k]}\n",
    "length = len(shared_items)\n",
    "print(f'count:{length}')"
   ]
  },
  {
   "cell_type": "code",
   "execution_count": 63,
   "metadata": {},
   "outputs": [
    {
     "data": {
      "text/plain": [
       "256"
      ]
     },
     "execution_count": 63,
     "metadata": {},
     "output_type": "execute_result"
    }
   ],
   "source": [
    "# write a python function get the random number from the given range and square the number\n",
    "import random \n",
    "\n",
    "min_value = 10\n",
    "max_value = 20\n",
    "\n",
    "def square(x):\n",
    "    return x*x\n",
    "\n",
    "def get_square_of_random_number(min_value,max_value):\n",
    "    return square(random.randint(min_value,max_value))\n",
    "\n",
    "get_square_of_random_number(min_value,max_value)\n"
   ]
  },
  {
   "cell_type": "code",
   "execution_count": 67,
   "metadata": {},
   "outputs": [
    {
     "name": "stdout",
     "output_type": "stream",
     "text": [
      "total counts of chars, digits,and symbols \n",
      "\n",
      "Chars =  8 Digits =  3 Symbol =  4\n"
     ]
    }
   ],
   "source": [
    "# write a python function to identify the total counts of chars, digits,and symbols for given input string \n",
    "\n",
    "def findDigitsCharsSymbols(inputString):\n",
    "    charCount = 0\n",
    "    digitCount = 0\n",
    "    symbolCount = 0\n",
    "    for char in inputString:\n",
    "        if char.islower() or char.isupper():\n",
    "              charCount+=1\n",
    "        elif char.isnumeric():\n",
    "              digitCount+=1\n",
    "        else:\n",
    "            symbolCount+=1\n",
    "      \n",
    "    print(\"Chars = \", charCount, \"Digits = \", digitCount, \"Symbol = \", symbolCount)\n",
    "      \n",
    "inputString = \"P@#yn26at^&i5ve\"\n",
    "print(\"total counts of chars, digits,and symbols \\n\")\n",
    "\n",
    "findDigitsCharsSymbols(inputString)\n",
    "\n"
   ]
  },
  {
   "cell_type": "code",
   "execution_count": 71,
   "metadata": {},
   "outputs": [
    {
     "name": "stdout",
     "output_type": "stream",
     "text": [
      "Given substring count is :2\n"
     ]
    }
   ],
   "source": [
    "#  write a python function to find all occurrences of user given substring in user provided input string ignoring the case\n",
    "\n",
    "def count_word_occurrences(inputstring,substring):\n",
    "    inputstring = inputstring\n",
    "    tempString = inputString.lower()\n",
    "    count = tempString.count(substring.lower())\n",
    "    return print(f'Given substring count is :{count}')  \n",
    "      \n",
    "inputString = \"Welcome to USA. usa awesome, isn't it?\"\n",
    "substring = \"USA\"\n",
    "count_word_occurrences(inputString,substring)"
   ]
  },
  {
   "cell_type": "code",
   "execution_count": 74,
   "metadata": {},
   "outputs": [
    {
     "name": "stdout",
     "output_type": "stream",
     "text": [
      "Total Marks is:294,Percentage is:73.5\n"
     ]
    }
   ],
   "source": [
    "# write a program that prints the sum and average of the digits that appear in the string, ignoring all other characters\n",
    "import re\n",
    "\n",
    "inputStr = \"English = 78 Science = 83 Math = 68 History = 65\"\n",
    "markList = [int(num) for num in re.findall(r'\\b\\d+\\b', inputStr)]\n",
    "totalMarks = 0\n",
    "for mark in markList:\n",
    "    totalMarks+=mark\n",
    "\n",
    "percentage = totalMarks/len(markList)  \n",
    "print(f'Total Marks is:{totalMarks},Percentage is:{percentage}')\n"
   ]
  },
  {
   "cell_type": "code",
   "execution_count": 75,
   "metadata": {},
   "outputs": [
    {
     "name": "stdout",
     "output_type": "stream",
     "text": [
      "Original Strings are bananna monkey\n",
      "After appending new string in middle banmonkeyanna\n"
     ]
    }
   ],
   "source": [
    "# write a python funaction to create a new string by appending second string in the middle of first string\n",
    "\n",
    "def appendMiddle(s1, s2):\n",
    "    middleIndex = int(len(s1) /2)\n",
    "    print(\"Original Strings are\", s1, s2)\n",
    "    middleThree = s1[:middleIndex:]+ s2 +s1[middleIndex:]\n",
    "    print(\"After appending new string in middle\", middleThree)\n",
    "\n",
    "appendMiddle(\"bananna\", \"monkey\")\n"
   ]
  },
  {
   "cell_type": "code",
   "execution_count": 81,
   "metadata": {},
   "outputs": [
    {
     "name": "stdout",
     "output_type": "stream",
     "text": [
      "Original String is: Emma is a data scientist who knows Python. Emma works at google.\n",
      "Last occurrence of Emma starts at 43\n"
     ]
    }
   ],
   "source": [
    "# write a program to find the last position of a given substring in a given string\n",
    "str1 = \"Emma is a data scientist who knows Python. Emma works at google.\"\n",
    "print(f\"Original String is: {str1}\")\n",
    "\n",
    "index = str1.rfind(\"Emma\")\n",
    "print(f\"Last occurrence of Emma starts at {index}\")"
   ]
  },
  {
   "cell_type": "code",
   "execution_count": 82,
   "metadata": {},
   "outputs": [
    {
     "name": "stdout",
     "output_type": "stream",
     "text": [
      "Original list of sting\n",
      "['Emma', 'Jon', '', 'Kelly', None, 'Eric', '']\n",
      "After removing empty strings\n",
      "['Emma', 'Jon', 'Kelly', 'Eric']\n"
     ]
    }
   ],
   "source": [
    "# write a program to remove the empty list from the given list \n",
    "str_list = [\"Emma\", \"Jon\", \"\", \"Kelly\", None, \"Eric\", \"\"]\n",
    "\n",
    "print(str_list)\n",
    "\n",
    "# use built-in function filter to filter empty value\n",
    "new_str_list = list(filter(None, str_list))\n",
    "\n",
    "print(\"After removing empty strings\")\n",
    "print(new_str_list)"
   ]
  },
  {
   "cell_type": "code",
   "execution_count": 85,
   "metadata": {},
   "outputs": [
    {
     "name": "stdout",
     "output_type": "stream",
     "text": [
      "The original string is :/*Jon is @developer & musician!!\n",
      "The strings after replacement : ##Jon is #developer # musician##\n"
     ]
    }
   ],
   "source": [
    "# write a program from given string replace each punctuation with #\n",
    "\n",
    "from string import punctuation\n",
    "\n",
    "str1 = '/*Jon is @developer & musician!!'\n",
    "print(f\"The original string is :{str1}\")\n",
    "\n",
    "# Replace punctuations with #\n",
    "replace_char = '#'\n",
    "\n",
    "for char in punctuation:\n",
    "    str1 = str1.replace(char, replace_char)\n",
    "\n",
    "print(f\"The strings after replacement : {str1}\")"
   ]
  },
  {
   "cell_type": "code",
   "execution_count": 90,
   "metadata": {},
   "outputs": [
    {
     "name": "stdout",
     "output_type": "stream",
     "text": [
      "['THIS IS TEST', 'ANOTHER TEST']\n"
     ]
    }
   ],
   "source": [
    "# write a program to convert all the sentances present in the list to upper \n",
    "\n",
    "mylis = ['this is test', 'another test']\n",
    "print(f'{[item.upper() for item in mylis]}')"
   ]
  },
  {
   "cell_type": "code",
   "execution_count": 96,
   "metadata": {},
   "outputs": [
    {
     "data": {
      "text/plain": [
       "15"
      ]
     },
     "execution_count": 96,
     "metadata": {},
     "output_type": "execute_result"
    }
   ],
   "source": [
    "# write a progarm to adds every 3rd number in a list\n",
    "from functools import reduce\n",
    "input_list = [x for x in range(10)]\n",
    "reduce((lambda x, y: x + y), [val for idx, val in enumerate(input_list) if (idx+1)%3==0])"
   ]
  },
  {
   "cell_type": "code",
   "execution_count": 97,
   "metadata": {},
   "outputs": [
    {
     "data": {
      "text/plain": [
       "'w s m'"
      ]
     },
     "execution_count": 97,
     "metadata": {},
     "output_type": "execute_result"
    }
   ],
   "source": [
    "# write a program to strips every vowel from a string provided \n",
    "\n",
    "vowels = ('a', 'e', 'i', 'o', 'u')\n",
    "input_string = \"awesome\"\n",
    "' '.join([x for x in input_string.lower() if x not in vowels])"
   ]
  }
 ],
 "metadata": {
  "kernelspec": {
   "display_name": "Python 3",
   "language": "python",
   "name": "python3"
  },
  "language_info": {
   "codemirror_mode": {
    "name": "ipython",
    "version": 3
   },
   "file_extension": ".py",
   "mimetype": "text/x-python",
   "name": "python",
   "nbconvert_exporter": "python",
   "pygments_lexer": "ipython3",
   "version": "3.7.4"
  }
 },
 "nbformat": 4,
 "nbformat_minor": 2
}
